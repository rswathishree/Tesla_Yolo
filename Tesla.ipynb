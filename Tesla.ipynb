{
  "nbformat": 4,
  "nbformat_minor": 0,
  "metadata": {
    "accelerator": "TPU",
    "colab": {
      "name": "Tesla",
      "provenance": [],
      "collapsed_sections": []
    },
    "kernelspec": {
      "display_name": "Python 3",
      "name": "python3"
    },
    "language_info": {
      "name": "python"
    }
  },
  "cells": [
    {
      "cell_type": "code",
      "metadata": {
        "id": "mQqpcRjjN9qU"
      },
      "source": [
        "import cv2\n",
        "import numpy"
      ],
      "execution_count": 10,
      "outputs": []
    },
    {
      "cell_type": "code",
      "metadata": {
        "colab": {
          "base_uri": "https://localhost:8080/"
        },
        "id": "DVNwgSCrOWC-",
        "outputId": "adb9126a-4164-4bcc-c74b-d3f35bc72d5d"
      },
      "source": [
        "!git clone https://github.com/ultralytics/yolov3"
      ],
      "execution_count": 11,
      "outputs": [
        {
          "output_type": "stream",
          "name": "stdout",
          "text": [
            "Cloning into 'yolov3'...\n",
            "remote: Enumerating objects: 9862, done.\u001b[K\n",
            "remote: Total 9862 (delta 0), reused 0 (delta 0), pack-reused 9862\u001b[K\n",
            "Receiving objects: 100% (9862/9862), 9.19 MiB | 21.15 MiB/s, done.\n",
            "Resolving deltas: 100% (6666/6666), done.\n"
          ]
        }
      ]
    },
    {
      "cell_type": "code",
      "metadata": {
        "colab": {
          "base_uri": "https://localhost:8080/"
        },
        "id": "vaFw4RAtOZQs",
        "outputId": "406b6c27-8160-411b-e5bc-76a73177b615"
      },
      "source": [
        "%cd yolov3/\n",
        "%ls"
      ],
      "execution_count": 12,
      "outputs": [
        {
          "output_type": "stream",
          "name": "stdout",
          "text": [
            "/content/yolov3/yolov3\n",
            "\u001b[0m\u001b[01;34mdata\u001b[0m/       hubconf.py  \u001b[01;32mREADME.md\u001b[0m*         train.py        \u001b[01;34mweights\u001b[0m/\n",
            "detect.py   LICENSE     \u001b[01;32mrequirements.txt\u001b[0m*  tutorial.ipynb\n",
            "Dockerfile  \u001b[01;34mmodels\u001b[0m/     test.py            \u001b[01;34mutils\u001b[0m/\n"
          ]
        }
      ]
    },
    {
      "cell_type": "code",
      "metadata": {
        "colab": {
          "base_uri": "https://localhost:8080/"
        },
        "id": "2bZcJUpFOhN5",
        "outputId": "9544ec51-1ff8-462c-f32d-fbc726323fdf"
      },
      "source": [
        "%pip install -r requirements.txt"
      ],
      "execution_count": 13,
      "outputs": [
        {
          "output_type": "stream",
          "name": "stdout",
          "text": [
            "Requirement already satisfied: matplotlib>=3.2.2 in /usr/local/lib/python3.7/dist-packages (from -r requirements.txt (line 4)) (3.2.2)\n",
            "Requirement already satisfied: numpy>=1.18.5 in /usr/local/lib/python3.7/dist-packages (from -r requirements.txt (line 5)) (1.19.5)\n",
            "Requirement already satisfied: opencv-python>=4.1.2 in /usr/local/lib/python3.7/dist-packages (from -r requirements.txt (line 6)) (4.1.2.30)\n",
            "Requirement already satisfied: Pillow in /usr/local/lib/python3.7/dist-packages (from -r requirements.txt (line 7)) (7.1.2)\n",
            "Requirement already satisfied: PyYAML>=5.3.1 in /usr/local/lib/python3.7/dist-packages (from -r requirements.txt (line 8)) (5.4.1)\n",
            "Requirement already satisfied: scipy>=1.4.1 in /usr/local/lib/python3.7/dist-packages (from -r requirements.txt (line 9)) (1.4.1)\n",
            "Requirement already satisfied: torch>=1.7.0 in /usr/local/lib/python3.7/dist-packages (from -r requirements.txt (line 10)) (1.9.0+cu102)\n",
            "Requirement already satisfied: torchvision>=0.8.1 in /usr/local/lib/python3.7/dist-packages (from -r requirements.txt (line 11)) (0.10.0+cu102)\n",
            "Requirement already satisfied: tqdm>=4.41.0 in /usr/local/lib/python3.7/dist-packages (from -r requirements.txt (line 12)) (4.62.3)\n",
            "Requirement already satisfied: tensorboard>=2.4.1 in /usr/local/lib/python3.7/dist-packages (from -r requirements.txt (line 15)) (2.6.0)\n",
            "Requirement already satisfied: seaborn>=0.11.0 in /usr/local/lib/python3.7/dist-packages (from -r requirements.txt (line 19)) (0.11.2)\n",
            "Requirement already satisfied: pandas in /usr/local/lib/python3.7/dist-packages (from -r requirements.txt (line 20)) (1.1.5)\n",
            "Requirement already satisfied: pycocotools>=2.0 in /usr/local/lib/python3.7/dist-packages (from -r requirements.txt (line 29)) (2.0.2)\n",
            "Requirement already satisfied: thop in /usr/local/lib/python3.7/dist-packages (from -r requirements.txt (line 30)) (0.0.31.post2005241907)\n",
            "Requirement already satisfied: pyparsing!=2.0.4,!=2.1.2,!=2.1.6,>=2.0.1 in /usr/local/lib/python3.7/dist-packages (from matplotlib>=3.2.2->-r requirements.txt (line 4)) (2.4.7)\n",
            "Requirement already satisfied: kiwisolver>=1.0.1 in /usr/local/lib/python3.7/dist-packages (from matplotlib>=3.2.2->-r requirements.txt (line 4)) (1.3.2)\n",
            "Requirement already satisfied: cycler>=0.10 in /usr/local/lib/python3.7/dist-packages (from matplotlib>=3.2.2->-r requirements.txt (line 4)) (0.10.0)\n",
            "Requirement already satisfied: python-dateutil>=2.1 in /usr/local/lib/python3.7/dist-packages (from matplotlib>=3.2.2->-r requirements.txt (line 4)) (2.8.2)\n",
            "Requirement already satisfied: typing-extensions in /usr/local/lib/python3.7/dist-packages (from torch>=1.7.0->-r requirements.txt (line 10)) (3.7.4.3)\n",
            "Requirement already satisfied: grpcio>=1.24.3 in /usr/local/lib/python3.7/dist-packages (from tensorboard>=2.4.1->-r requirements.txt (line 15)) (1.40.0)\n",
            "Requirement already satisfied: werkzeug>=0.11.15 in /usr/local/lib/python3.7/dist-packages (from tensorboard>=2.4.1->-r requirements.txt (line 15)) (1.0.1)\n",
            "Requirement already satisfied: markdown>=2.6.8 in /usr/local/lib/python3.7/dist-packages (from tensorboard>=2.4.1->-r requirements.txt (line 15)) (3.3.4)\n",
            "Requirement already satisfied: google-auth-oauthlib<0.5,>=0.4.1 in /usr/local/lib/python3.7/dist-packages (from tensorboard>=2.4.1->-r requirements.txt (line 15)) (0.4.6)\n",
            "Requirement already satisfied: requests<3,>=2.21.0 in /usr/local/lib/python3.7/dist-packages (from tensorboard>=2.4.1->-r requirements.txt (line 15)) (2.23.0)\n",
            "Requirement already satisfied: tensorboard-data-server<0.7.0,>=0.6.0 in /usr/local/lib/python3.7/dist-packages (from tensorboard>=2.4.1->-r requirements.txt (line 15)) (0.6.1)\n",
            "Requirement already satisfied: absl-py>=0.4 in /usr/local/lib/python3.7/dist-packages (from tensorboard>=2.4.1->-r requirements.txt (line 15)) (0.12.0)\n",
            "Requirement already satisfied: wheel>=0.26 in /usr/local/lib/python3.7/dist-packages (from tensorboard>=2.4.1->-r requirements.txt (line 15)) (0.37.0)\n",
            "Requirement already satisfied: setuptools>=41.0.0 in /usr/local/lib/python3.7/dist-packages (from tensorboard>=2.4.1->-r requirements.txt (line 15)) (57.4.0)\n",
            "Requirement already satisfied: google-auth<2,>=1.6.3 in /usr/local/lib/python3.7/dist-packages (from tensorboard>=2.4.1->-r requirements.txt (line 15)) (1.35.0)\n",
            "Requirement already satisfied: tensorboard-plugin-wit>=1.6.0 in /usr/local/lib/python3.7/dist-packages (from tensorboard>=2.4.1->-r requirements.txt (line 15)) (1.8.0)\n",
            "Requirement already satisfied: protobuf>=3.6.0 in /usr/local/lib/python3.7/dist-packages (from tensorboard>=2.4.1->-r requirements.txt (line 15)) (3.17.3)\n",
            "Requirement already satisfied: pytz>=2017.2 in /usr/local/lib/python3.7/dist-packages (from pandas->-r requirements.txt (line 20)) (2018.9)\n",
            "Requirement already satisfied: cython>=0.27.3 in /usr/local/lib/python3.7/dist-packages (from pycocotools>=2.0->-r requirements.txt (line 29)) (0.29.24)\n",
            "Requirement already satisfied: six in /usr/local/lib/python3.7/dist-packages (from absl-py>=0.4->tensorboard>=2.4.1->-r requirements.txt (line 15)) (1.15.0)\n",
            "Requirement already satisfied: pyasn1-modules>=0.2.1 in /usr/local/lib/python3.7/dist-packages (from google-auth<2,>=1.6.3->tensorboard>=2.4.1->-r requirements.txt (line 15)) (0.2.8)\n",
            "Requirement already satisfied: rsa<5,>=3.1.4 in /usr/local/lib/python3.7/dist-packages (from google-auth<2,>=1.6.3->tensorboard>=2.4.1->-r requirements.txt (line 15)) (4.7.2)\n",
            "Requirement already satisfied: cachetools<5.0,>=2.0.0 in /usr/local/lib/python3.7/dist-packages (from google-auth<2,>=1.6.3->tensorboard>=2.4.1->-r requirements.txt (line 15)) (4.2.2)\n",
            "Requirement already satisfied: requests-oauthlib>=0.7.0 in /usr/local/lib/python3.7/dist-packages (from google-auth-oauthlib<0.5,>=0.4.1->tensorboard>=2.4.1->-r requirements.txt (line 15)) (1.3.0)\n",
            "Requirement already satisfied: importlib-metadata in /usr/local/lib/python3.7/dist-packages (from markdown>=2.6.8->tensorboard>=2.4.1->-r requirements.txt (line 15)) (4.8.1)\n",
            "Requirement already satisfied: pyasn1<0.5.0,>=0.4.6 in /usr/local/lib/python3.7/dist-packages (from pyasn1-modules>=0.2.1->google-auth<2,>=1.6.3->tensorboard>=2.4.1->-r requirements.txt (line 15)) (0.4.8)\n",
            "Requirement already satisfied: idna<3,>=2.5 in /usr/local/lib/python3.7/dist-packages (from requests<3,>=2.21.0->tensorboard>=2.4.1->-r requirements.txt (line 15)) (2.10)\n",
            "Requirement already satisfied: chardet<4,>=3.0.2 in /usr/local/lib/python3.7/dist-packages (from requests<3,>=2.21.0->tensorboard>=2.4.1->-r requirements.txt (line 15)) (3.0.4)\n",
            "Requirement already satisfied: urllib3!=1.25.0,!=1.25.1,<1.26,>=1.21.1 in /usr/local/lib/python3.7/dist-packages (from requests<3,>=2.21.0->tensorboard>=2.4.1->-r requirements.txt (line 15)) (1.24.3)\n",
            "Requirement already satisfied: certifi>=2017.4.17 in /usr/local/lib/python3.7/dist-packages (from requests<3,>=2.21.0->tensorboard>=2.4.1->-r requirements.txt (line 15)) (2021.5.30)\n",
            "Requirement already satisfied: oauthlib>=3.0.0 in /usr/local/lib/python3.7/dist-packages (from requests-oauthlib>=0.7.0->google-auth-oauthlib<0.5,>=0.4.1->tensorboard>=2.4.1->-r requirements.txt (line 15)) (3.1.1)\n",
            "Requirement already satisfied: zipp>=0.5 in /usr/local/lib/python3.7/dist-packages (from importlib-metadata->markdown>=2.6.8->tensorboard>=2.4.1->-r requirements.txt (line 15)) (3.5.0)\n"
          ]
        }
      ]
    },
    {
      "cell_type": "code",
      "metadata": {
        "id": "U1bqN6veOi17"
      },
      "source": [
        "import torch"
      ],
      "execution_count": 14,
      "outputs": []
    },
    {
      "cell_type": "code",
      "metadata": {
        "colab": {
          "base_uri": "https://localhost:8080/"
        },
        "id": "UarRx8n7OmoK",
        "outputId": "6f684a4d-8307-461d-d713-911baa878d7a"
      },
      "source": [
        "!python detect.py --source 'car.jpg'"
      ],
      "execution_count": 19,
      "outputs": [
        {
          "output_type": "stream",
          "name": "stdout",
          "text": [
            "Namespace(agnostic_nms=False, augment=False, classes=None, conf_thres=0.25, device='', exist_ok=False, hide_conf=False, hide_labels=False, img_size=640, iou_thres=0.45, line_thickness=3, max_det=1000, name='exp', nosave=False, project='runs/detect', save_conf=False, save_crop=False, save_txt=False, source='car.jpg', update=False, view_img=False, weights='yolov3.pt')\n",
            "YOLOv3 🚀 v9.5.0-13-g1be3170 torch 1.9.0+cu102 CPU\n",
            "\n",
            "Fusing layers... \n",
            "Model Summary: 261 layers, 61922845 parameters, 0 gradients\n",
            "image 1/1 /content/yolov3/yolov3/car.jpg: 448x640 1 car, Done. (2.000s)\n",
            "Results saved to runs/detect/exp5\n",
            "Done. (2.212s)\n"
          ]
        }
      ]
    },
    {
      "cell_type": "code",
      "metadata": {
        "colab": {
          "base_uri": "https://localhost:8080/"
        },
        "id": "IP0jKsdeQ0iE",
        "outputId": "4083ad6f-8756-45fc-debc-03c5880282a4"
      },
      "source": [
        "!python detect.py --source 'street.mp4'"
      ],
      "execution_count": 20,
      "outputs": [
        {
          "output_type": "stream",
          "name": "stdout",
          "text": [
            "Namespace(agnostic_nms=False, augment=False, classes=None, conf_thres=0.25, device='', exist_ok=False, hide_conf=False, hide_labels=False, img_size=640, iou_thres=0.45, line_thickness=3, max_det=1000, name='exp', nosave=False, project='runs/detect', save_conf=False, save_crop=False, save_txt=False, source='street.mp4', update=False, view_img=False, weights='yolov3.pt')\n",
            "YOLOv3 🚀 v9.5.0-13-g1be3170 torch 1.9.0+cu102 CPU\n",
            "\n",
            "Fusing layers... \n",
            "Model Summary: 261 layers, 61922845 parameters, 0 gradients\n",
            "video 1/1 (1/120) /content/yolov3/yolov3/street.mp4: 384x640 1 person, 6 cars, 1 truck, Done. (1.709s)\n",
            "video 1/1 (2/120) /content/yolov3/yolov3/street.mp4: 384x640 6 cars, 1 truck, Done. (1.671s)\n",
            "video 1/1 (3/120) /content/yolov3/yolov3/street.mp4: 384x640 4 cars, 1 truck, Done. (1.661s)\n",
            "video 1/1 (4/120) /content/yolov3/yolov3/street.mp4: 384x640 4 cars, 1 truck, Done. (1.677s)\n",
            "video 1/1 (5/120) /content/yolov3/yolov3/street.mp4: 384x640 3 cars, 1 truck, Done. (1.665s)\n",
            "video 1/1 (6/120) /content/yolov3/yolov3/street.mp4: 384x640 4 cars, 1 truck, Done. (1.687s)\n",
            "video 1/1 (7/120) /content/yolov3/yolov3/street.mp4: 384x640 5 cars, 1 truck, Done. (1.669s)\n",
            "video 1/1 (8/120) /content/yolov3/yolov3/street.mp4: 384x640 7 cars, 1 truck, Done. (1.668s)\n",
            "video 1/1 (9/120) /content/yolov3/yolov3/street.mp4: 384x640 6 cars, 1 truck, Done. (1.695s)\n",
            "video 1/1 (10/120) /content/yolov3/yolov3/street.mp4: 384x640 6 cars, 1 truck, Done. (1.648s)\n",
            "video 1/1 (11/120) /content/yolov3/yolov3/street.mp4: 384x640 6 cars, 1 truck, Done. (1.686s)\n",
            "video 1/1 (12/120) /content/yolov3/yolov3/street.mp4: 384x640 5 cars, 1 truck, Done. (1.693s)\n",
            "video 1/1 (13/120) /content/yolov3/yolov3/street.mp4: 384x640 6 cars, 1 truck, Done. (1.670s)\n",
            "video 1/1 (14/120) /content/yolov3/yolov3/street.mp4: 384x640 6 cars, 1 truck, Done. (1.680s)\n",
            "video 1/1 (15/120) /content/yolov3/yolov3/street.mp4: 384x640 5 cars, 1 truck, Done. (1.664s)\n",
            "video 1/1 (16/120) /content/yolov3/yolov3/street.mp4: 384x640 6 cars, 1 truck, Done. (1.656s)\n",
            "video 1/1 (17/120) /content/yolov3/yolov3/street.mp4: 384x640 6 cars, 1 truck, 1 sink, Done. (1.660s)\n",
            "video 1/1 (18/120) /content/yolov3/yolov3/street.mp4: 384x640 6 cars, 1 bus, 1 sink, Done. (1.685s)\n",
            "video 1/1 (19/120) /content/yolov3/yolov3/street.mp4: 384x640 6 cars, 1 bus, Done. (1.649s)\n",
            "video 1/1 (20/120) /content/yolov3/yolov3/street.mp4: 384x640 1 person, 7 cars, 1 bus, Done. (1.659s)\n",
            "video 1/1 (21/120) /content/yolov3/yolov3/street.mp4: 384x640 1 person, 7 cars, 1 bus, Done. (1.652s)\n",
            "video 1/1 (22/120) /content/yolov3/yolov3/street.mp4: 384x640 6 cars, 1 truck, Done. (1.670s)\n",
            "video 1/1 (23/120) /content/yolov3/yolov3/street.mp4: 384x640 6 cars, 1 truck, Done. (1.663s)\n",
            "video 1/1 (24/120) /content/yolov3/yolov3/street.mp4: 384x640 5 cars, 1 truck, Done. (1.676s)\n",
            "video 1/1 (25/120) /content/yolov3/yolov3/street.mp4: 384x640 5 cars, 1 bus, 1 truck, Done. (1.668s)\n",
            "video 1/1 (26/120) /content/yolov3/yolov3/street.mp4: 384x640 5 cars, 1 truck, Done. (1.681s)\n",
            "video 1/1 (27/120) /content/yolov3/yolov3/street.mp4: 384x640 1 person, 4 cars, 1 truck, Done. (1.675s)\n",
            "video 1/1 (28/120) /content/yolov3/yolov3/street.mp4: 384x640 1 person, 4 cars, 1 truck, Done. (1.660s)\n",
            "video 1/1 (29/120) /content/yolov3/yolov3/street.mp4: 384x640 1 person, 4 cars, 1 truck, Done. (1.673s)\n",
            "video 1/1 (30/120) /content/yolov3/yolov3/street.mp4: 384x640 1 person, 3 cars, 1 bus, Done. (1.663s)\n",
            "video 1/1 (31/120) /content/yolov3/yolov3/street.mp4: 384x640 1 person, 3 cars, 1 bus, 1 truck, Done. (1.672s)\n",
            "video 1/1 (32/120) /content/yolov3/yolov3/street.mp4: 384x640 1 person, 3 cars, 1 truck, Done. (1.674s)\n",
            "video 1/1 (33/120) /content/yolov3/yolov3/street.mp4: 384x640 1 person, 4 cars, 1 truck, Done. (1.676s)\n",
            "video 1/1 (34/120) /content/yolov3/yolov3/street.mp4: 384x640 1 person, 3 cars, 1 bus, Done. (1.654s)\n",
            "video 1/1 (35/120) /content/yolov3/yolov3/street.mp4: 384x640 4 cars, 1 bus, 1 truck, Done. (1.663s)\n",
            "video 1/1 (36/120) /content/yolov3/yolov3/street.mp4: 384x640 2 persons, 3 cars, 1 bus, Done. (1.675s)\n",
            "video 1/1 (37/120) /content/yolov3/yolov3/street.mp4: 384x640 5 cars, 1 truck, Done. (1.686s)\n",
            "video 1/1 (38/120) /content/yolov3/yolov3/street.mp4: 384x640 2 persons, 2 cars, 1 motorcycle, 1 truck, Done. (1.649s)\n",
            "video 1/1 (39/120) /content/yolov3/yolov3/street.mp4: 384x640 1 car, 1 truck, 1 clock, Done. (1.667s)\n",
            "video 1/1 (40/120) /content/yolov3/yolov3/street.mp4: 384x640 2 persons, 1 car, 1 truck, Done. (1.686s)\n",
            "video 1/1 (41/120) /content/yolov3/yolov3/street.mp4: 384x640 1 car, 1 bus, Done. (1.652s)\n",
            "video 1/1 (42/120) /content/yolov3/yolov3/street.mp4: 384x640 2 cars, 1 bus, Done. (1.665s)\n",
            "video 1/1 (43/120) /content/yolov3/yolov3/street.mp4: 384x640 1 person, 2 cars, 1 truck, Done. (1.671s)\n",
            "video 1/1 (44/120) /content/yolov3/yolov3/street.mp4: 384x640 1 person, 3 cars, 1 truck, Done. (1.651s)\n",
            "video 1/1 (45/120) /content/yolov3/yolov3/street.mp4: 384x640 1 person, 3 cars, 1 motorcycle, 1 truck, Done. (1.689s)\n",
            "video 1/1 (46/120) /content/yolov3/yolov3/street.mp4: 384x640 1 person, 3 cars, 1 motorcycle, 1 truck, Done. (1.682s)\n",
            "video 1/1 (47/120) /content/yolov3/yolov3/street.mp4: 384x640 1 person, 3 cars, 1 motorcycle, 1 truck, Done. (1.664s)\n",
            "video 1/1 (48/120) /content/yolov3/yolov3/street.mp4: 384x640 1 person, 4 cars, 1 motorcycle, 1 bus, 1 truck, Done. (1.652s)\n",
            "video 1/1 (49/120) /content/yolov3/yolov3/street.mp4: 384x640 1 person, 4 cars, 1 motorcycle, 1 bus, Done. (1.680s)\n",
            "video 1/1 (50/120) /content/yolov3/yolov3/street.mp4: 384x640 1 person, 5 cars, 1 motorcycle, 1 bus, Done. (1.659s)\n",
            "video 1/1 (51/120) /content/yolov3/yolov3/street.mp4: 384x640 1 person, 5 cars, 1 motorcycle, 1 bus, Done. (1.662s)\n",
            "video 1/1 (52/120) /content/yolov3/yolov3/street.mp4: 384x640 1 person, 5 cars, 1 motorcycle, 1 bus, Done. (1.645s)\n",
            "video 1/1 (53/120) /content/yolov3/yolov3/street.mp4: 384x640 6 cars, 1 motorcycle, 1 bus, Done. (1.665s)\n",
            "video 1/1 (54/120) /content/yolov3/yolov3/street.mp4: 384x640 1 person, 6 cars, 1 motorcycle, 1 bus, 1 truck, 1 parking meter, Done. (1.685s)\n",
            "video 1/1 (55/120) /content/yolov3/yolov3/street.mp4: 384x640 1 person, 6 cars, 1 motorcycle, 2 trucks, Done. (1.658s)\n",
            "video 1/1 (56/120) /content/yolov3/yolov3/street.mp4: 384x640 1 person, 5 cars, 2 trucks, 1 parking meter, Done. (1.678s)\n",
            "video 1/1 (57/120) /content/yolov3/yolov3/street.mp4: 384x640 1 person, 6 cars, 1 truck, Done. (1.672s)\n",
            "video 1/1 (58/120) /content/yolov3/yolov3/street.mp4: 384x640 1 person, 6 cars, 1 bus, 1 truck, Done. (1.670s)\n",
            "video 1/1 (59/120) /content/yolov3/yolov3/street.mp4: 384x640 1 person, 7 cars, 1 motorcycle, 1 bus, 1 truck, Done. (1.672s)\n",
            "video 1/1 (60/120) /content/yolov3/yolov3/street.mp4: 384x640 1 person, 7 cars, 1 truck, Done. (1.670s)\n",
            "video 1/1 (61/120) /content/yolov3/yolov3/street.mp4: 384x640 1 person, 8 cars, Done. (1.652s)\n",
            "video 1/1 (62/120) /content/yolov3/yolov3/street.mp4: 384x640 1 person, 6 cars, 1 motorcycle, 1 truck, Done. (1.683s)\n",
            "video 1/1 (63/120) /content/yolov3/yolov3/street.mp4: 384x640 1 person, 7 cars, 1 truck, Done. (1.661s)\n",
            "video 1/1 (64/120) /content/yolov3/yolov3/street.mp4: 384x640 8 cars, 1 truck, Done. (1.651s)\n",
            "video 1/1 (65/120) /content/yolov3/yolov3/street.mp4: 384x640 1 person, 8 cars, 1 truck, Done. (1.654s)\n",
            "video 1/1 (66/120) /content/yolov3/yolov3/street.mp4: 384x640 1 person, 7 cars, 1 truck, Done. (1.659s)\n",
            "video 1/1 (67/120) /content/yolov3/yolov3/street.mp4: 384x640 1 person, 9 cars, 1 truck, Done. (1.645s)\n",
            "video 1/1 (68/120) /content/yolov3/yolov3/street.mp4: 384x640 1 person, 10 cars, 1 motorcycle, 1 truck, Done. (1.678s)\n",
            "video 1/1 (69/120) /content/yolov3/yolov3/street.mp4: 384x640 1 person, 9 cars, 1 motorcycle, 2 trucks, Done. (1.676s)\n",
            "video 1/1 (70/120) /content/yolov3/yolov3/street.mp4: 384x640 1 person, 9 cars, 1 motorcycle, 2 trucks, Done. (1.668s)\n",
            "video 1/1 (71/120) /content/yolov3/yolov3/street.mp4: 384x640 2 persons, 9 cars, 1 motorcycle, 2 trucks, Done. (1.661s)\n",
            "video 1/1 (72/120) /content/yolov3/yolov3/street.mp4: 384x640 2 persons, 7 cars, 1 motorcycle, 2 trucks, Done. (1.664s)\n",
            "video 1/1 (73/120) /content/yolov3/yolov3/street.mp4: 384x640 2 persons, 7 cars, 1 motorcycle, 2 trucks, Done. (1.663s)\n",
            "video 1/1 (74/120) /content/yolov3/yolov3/street.mp4: 384x640 2 persons, 8 cars, 2 motorcycles, 2 trucks, Done. (1.692s)\n",
            "video 1/1 (75/120) /content/yolov3/yolov3/street.mp4: 384x640 3 persons, 8 cars, 2 motorcycles, 2 trucks, Done. (1.681s)\n",
            "video 1/1 (76/120) /content/yolov3/yolov3/street.mp4: 384x640 2 persons, 8 cars, 1 motorcycle, 2 trucks, Done. (1.655s)\n",
            "video 1/1 (77/120) /content/yolov3/yolov3/street.mp4: 384x640 2 persons, 8 cars, 2 motorcycles, 2 trucks, Done. (1.667s)\n",
            "video 1/1 (78/120) /content/yolov3/yolov3/street.mp4: 384x640 2 persons, 9 cars, 2 motorcycles, 2 trucks, Done. (1.667s)\n",
            "video 1/1 (79/120) /content/yolov3/yolov3/street.mp4: 384x640 2 persons, 8 cars, 2 motorcycles, 2 trucks, Done. (1.674s)\n",
            "video 1/1 (80/120) /content/yolov3/yolov3/street.mp4: 384x640 2 persons, 9 cars, 2 motorcycles, 2 trucks, Done. (1.684s)\n",
            "video 1/1 (81/120) /content/yolov3/yolov3/street.mp4: 384x640 3 persons, 8 cars, 2 motorcycles, 2 trucks, Done. (1.696s)\n",
            "video 1/1 (82/120) /content/yolov3/yolov3/street.mp4: 384x640 2 persons, 9 cars, 2 motorcycles, 2 trucks, Done. (1.669s)\n",
            "video 1/1 (83/120) /content/yolov3/yolov3/street.mp4: 384x640 2 persons, 11 cars, 2 motorcycles, 1 truck, Done. (1.655s)\n",
            "video 1/1 (84/120) /content/yolov3/yolov3/street.mp4: 384x640 2 persons, 10 cars, 2 motorcycles, 1 truck, Done. (1.684s)\n",
            "video 1/1 (85/120) /content/yolov3/yolov3/street.mp4: 384x640 2 persons, 10 cars, 2 motorcycles, 1 truck, Done. (1.651s)\n",
            "video 1/1 (86/120) /content/yolov3/yolov3/street.mp4: 384x640 2 persons, 10 cars, 2 motorcycles, 1 truck, Done. (1.698s)\n",
            "video 1/1 (87/120) /content/yolov3/yolov3/street.mp4: 384x640 2 persons, 10 cars, 2 motorcycles, 1 truck, Done. (1.666s)\n",
            "video 1/1 (88/120) /content/yolov3/yolov3/street.mp4: 384x640 2 persons, 9 cars, 2 motorcycles, 1 truck, 1 backpack, Done. (1.663s)\n",
            "video 1/1 (89/120) /content/yolov3/yolov3/street.mp4: 384x640 2 persons, 10 cars, 2 motorcycles, 1 truck, Done. (1.658s)\n",
            "video 1/1 (90/120) /content/yolov3/yolov3/street.mp4: 384x640 2 persons, 9 cars, 2 motorcycles, 1 truck, Done. (1.672s)\n",
            "video 1/1 (91/120) /content/yolov3/yolov3/street.mp4: 384x640 2 persons, 9 cars, 1 motorcycle, 1 truck, Done. (1.660s)\n",
            "video 1/1 (92/120) /content/yolov3/yolov3/street.mp4: 384x640 2 persons, 9 cars, 2 motorcycles, 1 truck, Done. (1.663s)\n",
            "video 1/1 (93/120) /content/yolov3/yolov3/street.mp4: 384x640 1 person, 8 cars, 1 motorcycle, Done. (1.694s)\n",
            "video 1/1 (94/120) /content/yolov3/yolov3/street.mp4: 384x640 1 person, 9 cars, 1 motorcycle, 1 truck, Done. (1.656s)\n",
            "video 1/1 (95/120) /content/yolov3/yolov3/street.mp4: 384x640 1 person, 8 cars, 1 motorcycle, 1 truck, Done. (1.669s)\n",
            "video 1/1 (96/120) /content/yolov3/yolov3/street.mp4: 384x640 1 person, 9 cars, 1 motorcycle, Done. (1.670s)\n",
            "video 1/1 (97/120) /content/yolov3/yolov3/street.mp4: 384x640 1 person, 9 cars, 1 motorcycle, 1 backpack, Done. (1.665s)\n",
            "video 1/1 (98/120) /content/yolov3/yolov3/street.mp4: 384x640 1 person, 9 cars, 1 motorcycle, 1 truck, 1 backpack, Done. (1.679s)\n",
            "video 1/1 (99/120) /content/yolov3/yolov3/street.mp4: 384x640 1 person, 10 cars, 1 motorcycle, 1 backpack, Done. (1.704s)\n",
            "video 1/1 (100/120) /content/yolov3/yolov3/street.mp4: 384x640 1 person, 7 cars, 1 motorcycle, 1 backpack, Done. (1.669s)\n",
            "video 1/1 (101/120) /content/yolov3/yolov3/street.mp4: 384x640 1 person, 8 cars, 1 motorcycle, 1 backpack, Done. (1.671s)\n",
            "video 1/1 (102/120) /content/yolov3/yolov3/street.mp4: 384x640 1 person, 8 cars, 1 motorcycle, 1 backpack, Done. (1.665s)\n",
            "video 1/1 (103/120) /content/yolov3/yolov3/street.mp4: 384x640 1 person, 8 cars, 1 motorcycle, 1 backpack, Done. (1.671s)\n",
            "video 1/1 (104/120) /content/yolov3/yolov3/street.mp4: 384x640 1 person, 7 cars, 1 motorcycle, Done. (1.664s)\n",
            "video 1/1 (105/120) /content/yolov3/yolov3/street.mp4: 384x640 1 person, 6 cars, 1 motorcycle, Done. (1.696s)\n",
            "video 1/1 (106/120) /content/yolov3/yolov3/street.mp4: 384x640 1 person, 7 cars, 1 motorcycle, 1 backpack, Done. (1.667s)\n",
            "video 1/1 (107/120) /content/yolov3/yolov3/street.mp4: 384x640 1 person, 6 cars, 1 motorcycle, Done. (1.674s)\n",
            "video 1/1 (108/120) /content/yolov3/yolov3/street.mp4: 384x640 1 person, 6 cars, 1 motorcycle, Done. (1.657s)\n",
            "video 1/1 (109/120) /content/yolov3/yolov3/street.mp4: 384x640 1 person, 5 cars, 1 motorcycle, Done. (1.651s)\n",
            "video 1/1 (110/120) /content/yolov3/yolov3/street.mp4: 384x640 1 person, 5 cars, 1 motorcycle, Done. (1.662s)\n",
            "video 1/1 (111/120) /content/yolov3/yolov3/street.mp4: 384x640 1 person, 5 cars, 1 motorcycle, 1 backpack, Done. (1.691s)\n",
            "video 1/1 (112/120) /content/yolov3/yolov3/street.mp4: 384x640 1 person, 6 cars, 1 motorcycle, 1 backpack, Done. (1.656s)\n",
            "video 1/1 (113/120) /content/yolov3/yolov3/street.mp4: 384x640 1 person, 5 cars, 1 motorcycle, 1 backpack, Done. (1.658s)\n",
            "video 1/1 (114/120) /content/yolov3/yolov3/street.mp4: 384x640 1 person, 5 cars, 1 motorcycle, Done. (1.676s)\n",
            "video 1/1 (115/120) /content/yolov3/yolov3/street.mp4: 384x640 2 persons, 5 cars, 1 motorcycle, Done. (1.656s)\n",
            "video 1/1 (116/120) /content/yolov3/yolov3/street.mp4: 384x640 2 persons, 5 cars, 1 motorcycle, 1 truck, 1 backpack, Done. (1.677s)\n",
            "video 1/1 (117/120) /content/yolov3/yolov3/street.mp4: 384x640 2 persons, 5 cars, 1 motorcycle, 1 truck, 1 backpack, Done. (1.688s)\n",
            "video 1/1 (118/120) /content/yolov3/yolov3/street.mp4: 384x640 2 persons, 5 cars, 1 motorcycle, 1 truck, Done. (1.678s)\n",
            "video 1/1 (119/120) /content/yolov3/yolov3/street.mp4: 384x640 1 person, 4 cars, 1 motorcycle, 1 truck, Done. (1.665s)\n",
            "video 1/1 (120/120) /content/yolov3/yolov3/street.mp4: 384x640 1 person, 4 cars, 1 motorcycle, 1 bus, 1 truck, 1 backpack, Done. (1.665s)\n",
            "Results saved to runs/detect/exp6\n",
            "Done. (203.291s)\n"
          ]
        }
      ]
    },
    {
      "cell_type": "code",
      "metadata": {
        "id": "UZRhFRBqUEzI"
      },
      "source": [
        ""
      ],
      "execution_count": null,
      "outputs": []
    },
    {
      "cell_type": "code",
      "metadata": {
        "id": "alGhqiJ8UEjj"
      },
      "source": [
        ""
      ],
      "execution_count": null,
      "outputs": []
    },
    {
      "cell_type": "code",
      "metadata": {
        "id": "DwUxTkqTRBo5"
      },
      "source": [
        ""
      ],
      "execution_count": null,
      "outputs": []
    }
  ]
}